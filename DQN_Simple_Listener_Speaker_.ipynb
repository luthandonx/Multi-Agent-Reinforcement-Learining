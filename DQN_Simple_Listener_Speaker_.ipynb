{
  "nbformat": 4,
  "nbformat_minor": 0,
  "metadata": {
    "colab": {
      "provenance": [],
      "collapsed_sections": [],
      "authorship_tag": "ABX9TyMKu15ZSAGxpqcSRTbe+mY6",
      "include_colab_link": true
    },
    "kernelspec": {
      "name": "python3",
      "display_name": "Python 3"
    },
    "language_info": {
      "name": "python"
    }
  },
  "cells": [
    {
      "cell_type": "markdown",
      "metadata": {
        "id": "view-in-github",
        "colab_type": "text"
      },
      "source": [
        "<a href=\"https://colab.research.google.com/github/luthandonx/Multi-Agent-Reinforcement-Learining/blob/Simple-Listener-Speaker/DQN_Simple_Listener_Speaker_.ipynb\" target=\"_parent\"><img src=\"https://colab.research.google.com/assets/colab-badge.svg\" alt=\"Open In Colab\"/></a>"
      ]
    },
    {
      "cell_type": "code",
      "execution_count": null,
      "metadata": {
        "id": "4jf8GUUOSO4_"
      },
      "outputs": [],
      "source": [
        "!pip install pettingzoo[mpe]"
      ]
    },
    {
      "cell_type": "code",
      "source": [
        "from tensorflow import keras\n",
        "from keras.layers import Dense,Activation\n",
        "from keras.models import Sequential,load_model\n",
        "import numpy as np\n",
        "import random\n",
        "import os"
      ],
      "metadata": {
        "id": "UcGUQZlGSS9R"
      },
      "execution_count": null,
      "outputs": []
    },
    {
      "cell_type": "code",
      "source": [
        "class ReplayBuffer(object):\n",
        "  def __init__(self,mem_max_size,input_shape,num_actions):\n",
        "    self.mem_size = mem_max_size\n",
        "    self.input_shape = input_shape\n",
        "    self.num_actions = num_actions\n",
        "    self.state_memory = np.zeros((self.mem_size,input_shape))\n",
        "    self.action_memory = np.zeros((self.mem_size,num_actions),dtype = np.int8)\n",
        "    self.reward_memory = np.zeros(self.mem_size)\n",
        "    self.new_state_memory = np.zeros((self.mem_size,input_shape))\n",
        "    self.terminal_state = np.zeros(self.mem_size,dtype=np.float32)\n",
        "    self.mem_counter = 1\n",
        "\n",
        "  def store_transition(self,state,action,reward,done):\n",
        "    index = self.mem_counter % self.mem_size\n",
        "    self.state_memory[index] = state\n",
        "    self.reward_memory[index] = reward\n",
        "    self.terminal_state[index] = 1 - int(done)\n",
        "    #print('index: ',index)\n",
        "    actions = np.zeros(self.action_memory.shape[1]) #one hot encoding of actions\n",
        "    actions[action] = 1\n",
        "    self.action_memory[index] = actions\n",
        "    if self.mem_counter > 0 :\n",
        "      self.new_state_memory[index-1] = state\n",
        "    self.mem_counter +=1\n",
        "\n",
        "  def sample(self,batch_size):\n",
        "    mem_size = min(self.mem_counter,self.mem_size)\n",
        "    batch = np.random.choice(mem_size,batch_size)\n",
        "\n",
        "    #print('batch: ',batch)\n",
        "\n",
        "    state = self.state_memory[batch]\n",
        "    new_state = self.new_state_memory[batch]\n",
        "    reward = self.reward_memory[batch]\n",
        "    action = self.action_memory[batch]\n",
        "    terminal = self.terminal_state[batch]\n",
        "\n",
        "    return state,new_state,action,reward,terminal\n",
        "\n",
        "  def clear_memory(self):\n",
        "    self.state_memory = np.zeros((self.mem_size,self.input_shape))\n",
        "    self.action_memory = np.zeros((self.mem_size,self.num_actions),dtype = np.int8)\n",
        "    self.reward_memory = np.zeros(self.mem_size)\n",
        "    self.new_state_memory = np.zeros((self.mem_size,self.input_shape))\n",
        "    self.terminal_state = np.zeros(self.mem_size,dtype=np.float32)\n",
        "    self.mem_counter = 1"
      ],
      "metadata": {
        "id": "ga4ghtMnScR6"
      },
      "execution_count": null,
      "outputs": []
    },
    {
      "cell_type": "code",
      "source": [
        "from keras.engine.training import optimizers\n",
        "def build_dqn(lr,input_dims,num_actions,unit_size):\n",
        "  model = Sequential(\n",
        "      [\n",
        "          Dense(unit_size,input_shape=(input_dims,)),Activation('relu'),\n",
        "          Dense(unit_size),Activation('relu'),\n",
        "          Dense(num_actions)\n",
        "      ]\n",
        "  )\n",
        "  opt = keras.optimizers.Adam(learning_rate = lr)\n",
        "  model.compile(loss = 'mse',optimizer=opt)\n",
        "\n",
        "  return model"
      ],
      "metadata": {
        "id": "wzXvDNKPSsaT"
      },
      "execution_count": null,
      "outputs": []
    },
    {
      "cell_type": "code",
      "source": [
        "!pip install pettingzoo[mpe]"
      ],
      "metadata": {
        "id": "3Qct_VvySwPq"
      },
      "execution_count": null,
      "outputs": []
    },
    {
      "cell_type": "code",
      "source": [
        "class Agent(object):\n",
        "  def __init__(self,agent_name, num_actions,alpha,gamma,batch_size,input_dims,episolon,\n",
        "              episolon_dec=0.996,episolon_end = 0.01,\n",
        "              mem_size = 100, fname = 'dqn_model',replace_target=100 ):\n",
        "    self.action_space = [i for i in range(num_actions)]\n",
        "    self.n_actions = num_actions\n",
        "    self.gamma = gamma\n",
        "    self.alpha = alpha\n",
        "    self.episolon = episolon\n",
        "    self.mem_size = 1000\n",
        "    self.replace_target = replace_target\n",
        "    self.batch_size = batch_size\n",
        "    self.input_dims = input_dims\n",
        "    self.episolon_dec = episolon_dec\n",
        "    self.episolon_end = episolon_end\n",
        "    self.agent_name = agent_name\n",
        "    self.file_name = 'dqn_model_'+self.agent_name\n",
        "    \n",
        "\n",
        "    self.memory = ReplayBuffer(self.mem_size,input_dims,self.n_actions,)\n",
        "    self.dqn_eval = build_dqn(self.alpha,self.input_dims,self.n_actions,256)\n",
        "    self.q_target = build_dqn(self.alpha,self.input_dims,self.n_actions,256)\n",
        "\n",
        "  def remember(self,state,action,reward,done):\n",
        "    self.memory.store_transition(state,action,reward,done)\n",
        "\n",
        "  def choose_action(self,observation):\n",
        "    state = np.expand_dims(observation,0)\n",
        "    rand = random.random()\n",
        "    if rand<self.episolon:\n",
        "      action = random.randint(0,self.n_actions-1)\n",
        "    else:\n",
        "      actions = self.dqn_eval(state)\n",
        "      action = np.argmax(actions)\n",
        "    \n",
        "    return action\n",
        "  \n",
        "  def learn(self,episode):\n",
        "\n",
        "    if self.memory.mem_counter<self.batch_size:\n",
        "      return\n",
        "    else:\n",
        "      state,new_state,action,reward,terminal = self.memory.sample(self.batch_size)\n",
        "      action_values = np.array(self.action_space,dtype = np.int8)\n",
        "      \n",
        "      action_indices = np.dot(action,action_values)\n",
        "\n",
        "      q_eval = self.dqn_eval.predict(state)\n",
        "\n",
        "\n",
        "      q_next = self.dqn_eval.predict(new_state)\n",
        "\n",
        "      q_target = q_eval.copy()\n",
        "\n",
        "      max_actions = np.argmax(q_eval, axis=1)\n",
        "\n",
        "      batch_index = np.arange(self.batch_size,dtype = np.int32)\n",
        "  \n",
        "      q_target[batch_index, action_indices] = reward + self.gamma*q_next[batch_index, max_actions.astype(int)]*done\n",
        "   \n",
        "\n",
        "      _ = self.dqn_eval.fit(state,q_target,verbose = 0)\n",
        "\n",
        "      self.episolon = self.episolon*self.episolon_dec if self.episolon > self.episolon_end else self.episolon_end\n",
        "      \n",
        "      if self.memory.mem_counter % self.replace_target == 0:\n",
        "                self.update_network_parameters()\n",
        "\n",
        "\n",
        "      #Steps for learning\n",
        "      # 1. Sample Buffer (non sequential memories because it leads to coorrelation learning where agents focus only on a set parameter space which \n",
        "      # slows down learning) \n",
        "      \n",
        "      # 2. Go from onehot encoding to integer encoding\n",
        "\n",
        "      # 3. Calculate the current value of the state and the next state\n",
        "\n",
        "      # 4. Update the Q_Target based on maximum values of the next state\n",
        "\n",
        "      # 5. Use the Q_target as the target for the loss function for the Q_network\n",
        "\n",
        "  def update_network_parameters(self):\n",
        "      self.q_target = self.dqn_eval\n",
        "\n",
        "  def save_model(self):\n",
        "    self.dqn_eval.save(self.file_name)\n",
        "  \n",
        "  def load_model(self):\n",
        "    self.dqn_eval.load_weights(self.file_name)\n"
      ],
      "metadata": {
        "id": "chxHlV3VSwuD"
      },
      "execution_count": null,
      "outputs": []
    },
    {
      "cell_type": "code",
      "source": [
        "from pettingzoo.mpe import simple_speaker_listener_v3\n",
        "env = simple_speaker_listener_v3.env(max_cycles = 25 , continuous_actions = False)\n",
        "env.reset()"
      ],
      "metadata": {
        "id": "BuvLbFgjS2ET"
      },
      "execution_count": null,
      "outputs": []
    },
    {
      "cell_type": "code",
      "source": [
        "agent_net = {}\n",
        "for a in env.agents:\n",
        "  obs_space = env.observation_space(a).shape\n",
        "  act_space = env.action_space(a).n\n",
        "  agent = Agent(agent_name = a,num_actions = act_space,alpha = 1e-5,gamma = 0.95,batch_size = 64,input_dims = obs_space[0],episolon = 0.009,\n",
        "              episolon_dec=0.996,episolon_end = 0.01,\n",
        "              mem_size = 10000, fname = 'dqn_model',replace_target=100)\n",
        "  agent_net[a] = agent"
      ],
      "metadata": {
        "id": "tPTnKfaSTBNL"
      },
      "execution_count": null,
      "outputs": []
    },
    {
      "cell_type": "code",
      "source": [
        "env.reset()\n",
        "n_games = 2500\n",
        "ddqn_scores = []\n",
        "avg_scores=[]\n",
        "eps_history = []\n",
        "best_score = -10000\n",
        "agent_list = env.agents\n",
        "for i in range(n_games):\n",
        "  score  = 0\n",
        "  env.reset()\n",
        "  for a in env.agent_iter():\n",
        "    observation,reward,done,trunc,_= env.last()\n",
        "    if not (done or trunc):\n",
        "      action = agent_net[a].choose_action(observation)\n",
        "      act = action\n",
        "      score += reward\n",
        "      env.step(act)\n",
        "      agent_net[a].remember(observation,act,reward,done)\n",
        "      agent_net[a].learn(i)\n",
        "    else:\n",
        "      act = None\n",
        "      env.step(act)   \n",
        "\n",
        "  ddqn_scores.append(score)\n",
        "  avg_score = np.mean(ddqn_scores[-100:])\n",
        "\n",
        "  \n",
        "  if (avg_score > best_score):\n",
        "    best_score = avg_score\n",
        "    for a in agent_list:\n",
        "       agent_net[a].save_model()\n",
        "\n",
        "  print('episode: ', i,'score: %.2f' % score,' average score %.2f' % avg_score)\n",
        "  avg_scores.append(avg_score)\n",
        "  "
      ],
      "metadata": {
        "id": "en-bCabdTj1F"
      },
      "execution_count": null,
      "outputs": []
    },
    {
      "cell_type": "code",
      "source": [
        "import numpy as np\n",
        "import matplotlib.pyplot as plt\n",
        "from scipy.signal import savgol_filter\n",
        "\n",
        "x = np.linspace(0,2*np.pi,100)\n",
        "y = np.sin(x) + np.random.random(100) * 0.2\n",
        "yhat = savgol_filter(ddqn_scores, 101, 3) # window size 51, polynomial order 3\n",
        "\n",
        "\n",
        "plt.plot(yhat, color='red')\n",
        "plt.show()"
      ],
      "metadata": {
        "id": "N5ssxEro95WX"
      },
      "execution_count": null,
      "outputs": []
    },
    {
      "cell_type": "code",
      "source": [
        "print(ddqn_scores)"
      ],
      "metadata": {
        "id": "izy7KY1Q6Ihc"
      },
      "execution_count": null,
      "outputs": []
    }
  ]
}