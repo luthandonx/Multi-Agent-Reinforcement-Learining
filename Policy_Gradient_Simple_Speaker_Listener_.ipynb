{
  "nbformat": 4,
  "nbformat_minor": 0,
  "metadata": {
    "colab": {
      "provenance": [],
      "collapsed_sections": [],
      "authorship_tag": "ABX9TyNYGL9eJHEUCrYXufZLmw/D",
      "include_colab_link": true
    },
    "kernelspec": {
      "name": "python3",
      "display_name": "Python 3"
    },
    "language_info": {
      "name": "python"
    }
  },
  "cells": [
    {
      "cell_type": "markdown",
      "metadata": {
        "id": "view-in-github",
        "colab_type": "text"
      },
      "source": [
        "<a href=\"https://colab.research.google.com/github/luthandonx/Multi-Agent-Reinforcement-Learining/blob/Simple-Listener-Speaker/Policy_Gradient_Simple_Speaker_Listener_.ipynb\" target=\"_parent\"><img src=\"https://colab.research.google.com/assets/colab-badge.svg\" alt=\"Open In Colab\"/></a>"
      ]
    },
    {
      "cell_type": "code",
      "execution_count": null,
      "metadata": {
        "id": "hVfCzyTuP-k1"
      },
      "outputs": [],
      "source": [
        "!pip install pettingzoo[mpe]"
      ]
    },
    {
      "cell_type": "code",
      "source": [
        "from keras.layers import Input,Dense,Activation\n",
        "from keras.models import Model,load_model\n",
        "import numpy as np\n",
        "from tensorflow import keras\n",
        "import keras.backend as K\n",
        "\n",
        "class Agent(object):\n",
        "  def __init__ (self,name,alpha,gamma,input_dims, n_actions,layer_size,fname ='reinforcePolicy'):\n",
        "    self.gamma = gamma\n",
        "    self.lr = alpha\n",
        "    self.G = 0\n",
        "    self.input_dims = input_dims\n",
        "    self.layer_size = layer_size\n",
        "    self.n_actions = n_actions\n",
        "    self.state_memory = []\n",
        "    self.action_memory = []\n",
        "    self.reward_memory = []\n",
        "    self.agent_name = name\n",
        "\n",
        "    self.policy,self.predict = self.create_policy()\n",
        "    self.action_space = [i for i in range(n_actions)]\n",
        "    self.model_file = fname +'_name'\n",
        "\n",
        "  def create_policy(self):\n",
        "    input = Input(shape = (self.input_dims,))#comma indicates that it takes a batch\n",
        "    advantages = Input(shape =[1])\n",
        "    dense1 = Dense(self.layer_size,activation = 'relu')(input)\n",
        "    dense2 = Dense(self.layer_size,activation = 'relu')(dense1)\n",
        "    probs = Dense(self.n_actions, activation = 'softmax')(dense2)\n",
        "\n",
        "    def custom_loss(y_true,y_pred):\n",
        "      out = K.clip(y_pred,1e-8, 1-1e-8) #this is to ensure that we do not perform log calcualtions with log values of 0\n",
        "      log_lik = y_true*K.log(out)\n",
        "\n",
        "      return K.sum(-log_lik*advantages)\n",
        "    \n",
        "    policy = Model(inputs = [input,advantages], outputs = [probs])\n",
        "    opt = keras.optimizers.Adam(learning_rate = self.lr)\n",
        "    policy.compile(optimizer = opt, loss = custom_loss)\n",
        "\n",
        "    predict = keras.Model(inputs = [input], outputs = [probs])\n",
        "\n",
        "    return policy,predict\n",
        "\n",
        "  def choose_action(self,obsv): \n",
        "    obsv = np.expand_dims(obsv,0)\n",
        "    #to keep the input shape consistant\n",
        "    probabilities = self.predict.predict(obsv)[0]\n",
        "    # we take the 0th element because predict returns a tuple\n",
        "    action = np.random.choice(self.action_space,p=probabilities)\n",
        "    # action = np.argmax(probabilities)\n",
        "    return action\n",
        "\n",
        "  def store_trans(self,obsv,action,reward):\n",
        "    self.action_memory.append(action)\n",
        "    self.state_memory.append(obsv)\n",
        "    self.reward_memory.append(reward)\n",
        "\n",
        "  def learn(self):\n",
        "    state_memory = np.array(self.state_memory)\n",
        "    reward_memory = np.array(self.reward_memory)\n",
        "    action_memory = np.array(self.action_memory)\n",
        "\n",
        "\n",
        "    actions = np.zeros([len(action_memory),self.n_actions])\n",
        "    actions[np.arange(len(action_memory)),action_memory] = 1\n",
        "    # loss function requires the labels to be 1 hot encoded\n",
        "\n",
        "    G = np.zeros_like(reward_memory)\n",
        "    for t in range(len(reward_memory)):\n",
        "      G_sum = 0\n",
        "      discount = 1\n",
        "      for k in range(t,len(reward_memory)):\n",
        "        G_sum += reward_memory[k]*discount\n",
        "        discount *= self.gamma\n",
        "      G[t] = G_sum\n",
        "\n",
        "    mean = np.mean(G)\n",
        "    std = np.std(G) if np.std(G) > 0 else 1\n",
        "    self.G = (G-mean)/std\n",
        "    print(len(self.G))\n",
        "    print(len(state_memory))\n",
        "    print(len(actions))\n",
        "    cost = self.policy.train_on_batch([state_memory,self.G], actions) # actions is our labels\n",
        "    #[state_memory,self.G] =  y_pred and actions = y_true\n",
        "    # This is to calculate for the loss function\n",
        "\n",
        "    self.state_memory = []\n",
        "    self.reward_memory = []\n",
        "    self.action_memory = []\n",
        "\n",
        "  def save_model(self):\n",
        "    self.policy.save(self.model_file)\n",
        "\n",
        "  def load_model(self):\n",
        "    self.policy = keras.models.load_model(self.model_file)"
      ],
      "metadata": {
        "id": "bf8gyKStQa78"
      },
      "execution_count": null,
      "outputs": []
    },
    {
      "cell_type": "code",
      "source": [
        "from tensorflow.python.framework.ops import disable_eager_execution\n",
        "\n",
        "disable_eager_execution()"
      ],
      "metadata": {
        "id": "aR7ti1P5Qo60"
      },
      "execution_count": null,
      "outputs": []
    },
    {
      "cell_type": "code",
      "source": [
        "from pettingzoo.mpe import simple_speaker_listener_v3\n",
        "\n",
        "env = simple_speaker_listener_v3.env(max_cycles = 25 , continuous_actions = False)\n",
        "env.reset()"
      ],
      "metadata": {
        "id": "3G31wF0OQqrk"
      },
      "execution_count": null,
      "outputs": []
    },
    {
      "cell_type": "code",
      "source": [
        "for a in env.agents:\n",
        "  x = env.action_space(a).n\n",
        "  print(x)"
      ],
      "metadata": {
        "id": "u-w_h3hNRKkO"
      },
      "execution_count": null,
      "outputs": []
    },
    {
      "cell_type": "code",
      "source": [
        "agent_net = {}\n",
        "agent_list = []\n",
        "for a in env.agents:\n",
        "  obs_space = env.observation_space(a).shape\n",
        "  print(obs_space[0])\n",
        "  action_space = env.action_space(a).n\n",
        "  agent = Agent(a, 1e-5 , 0.95 , obs_space[0] ,action_space,256)\n",
        "  agent_net[a] = agent\n",
        "  agent_list.append(a)"
      ],
      "metadata": {
        "id": "Hj0n-oJOQsUc"
      },
      "execution_count": null,
      "outputs": []
    },
    {
      "cell_type": "code",
      "source": [
        "agent_list = env.agents\n",
        "print(agent_list)"
      ],
      "metadata": {
        "id": "yMUeVM9GPRU0"
      },
      "execution_count": null,
      "outputs": []
    },
    {
      "cell_type": "code",
      "source": [
        "env.reset()\n",
        "best_score = -1000\n",
        "max_episode = 2000\n",
        "score_history = []\n",
        "avg_scores = []\n",
        "for i in range(max_episode):\n",
        "  score = 0\n",
        "  env.reset()\n",
        "  for agent in env.agent_iter():\n",
        "    observation,reward,done,trunc,_= env.last()\n",
        "    score += reward\n",
        "    if not (done or trunc):\n",
        "      action = agent_net[agent].choose_action(observation)\n",
        "      env.step(action)\n",
        "      agent_net[agent].store_trans(observation,action,reward)\n",
        "    else:\n",
        "      action = None\n",
        "      env.step(action)\n",
        "  \n",
        "  score_history.append(score)    \n",
        "  avg_score = np.mean(score_history[-100:])\n",
        "\n",
        "  if avg_score > best_score:\n",
        "    load_checkpoint = True\n",
        "    best_score = avg_score\n",
        "    for a in agent_list:\n",
        "      agent_net[a].save_model()\n",
        "\n",
        "  for agent in env.agents:\n",
        "    agent_net[agent].learn()\n",
        "  \n",
        "  print('episode: ', i , ' score :',score,' avg score:', np.mean(score_history[-100:]))\n",
        "  avg_scores.append(avg_score)"
      ],
      "metadata": {
        "id": "voGBZXngQuOk"
      },
      "execution_count": null,
      "outputs": []
    },
    {
      "cell_type": "code",
      "source": [
        "import numpy as np\n",
        "import matplotlib.pyplot as plt\n",
        "from scipy.signal import savgol_filter\n",
        "\n",
        "x = np.linspace(0,2*np.pi,100)\n",
        "y = np.sin(x) + np.random.random(100) * 0.2\n",
        "yhat = savgol_filter(score_history, 101, 3) # window size 51, polynomial order 3\n",
        "\n",
        "\n",
        "plt.plot(yhat, color='red')\n",
        "plt.show()"
      ],
      "metadata": {
        "id": "tmyd5GOHGvqU"
      },
      "execution_count": null,
      "outputs": []
    },
    {
      "cell_type": "code",
      "source": [
        "print(avg_scores)"
      ],
      "metadata": {
        "id": "gbsEpaIV5xaT"
      },
      "execution_count": null,
      "outputs": []
    }
  ]
}